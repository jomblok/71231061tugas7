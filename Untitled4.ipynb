{
  "nbformat": 4,
  "nbformat_minor": 0,
  "metadata": {
    "colab": {
      "provenance": []
    },
    "kernelspec": {
      "name": "python3",
      "display_name": "Python 3"
    },
    "language_info": {
      "name": "python"
    }
  },
  "cells": [
    {
      "cell_type": "markdown",
      "source": [
        "SOAL 1"
      ],
      "metadata": {
        "id": "CwLIEp8Fm5gw"
      }
    },
    {
      "cell_type": "code",
      "source": [
        "def anagram(kalimat,kalimat1):\n",
        "    if  sorted(kalimat) != sorted(kalimat1):\n",
        "        print(\"bukan\")\n",
        "    else:\n",
        "        print(f'{kalimat} ini adalah anagram dengan {kalimat1}')\n",
        "anagram(\"mkaan\",\"makan\")"
      ],
      "metadata": {
        "colab": {
          "base_uri": "https://localhost:8080/"
        },
        "id": "Wgif6u-Sm8lI",
        "outputId": "cfa1075c-e8f1-4891-c4f6-bb5e24f9d379"
      },
      "execution_count": 1,
      "outputs": [
        {
          "output_type": "stream",
          "name": "stdout",
          "text": [
            "mkaan ini adalah anagram dengan makan\n"
          ]
        }
      ]
    },
    {
      "cell_type": "markdown",
      "source": [
        "SOAL 2"
      ],
      "metadata": {
        "id": "FOJCxCKtnBST"
      }
    },
    {
      "cell_type": "code",
      "source": [
        "def frekuensi(kalimat,cari):\n",
        "     hasil = 0\n",
        "     cari = cari.lower()\n",
        "     kalimat = kalimat.lower()\n",
        "     kalimat = kalimat.split()\n",
        "     for i in kalimat :\n",
        "        if cari == i:\n",
        "            hasil += 1\n",
        "     kalimat_baru =' '.join(kalimat)\n",
        "     print(f'\"{cari}\" ada {hasil} buah  , pada kalimat \"{kalimat_baru}\" ')\n",
        "frekuensi(\"saya makan ayam makan\",\"SAYA\")"
      ],
      "metadata": {
        "colab": {
          "base_uri": "https://localhost:8080/"
        },
        "id": "QN-65MEgnCRw",
        "outputId": "75193422-29e2-478f-d4d0-f5ff58a2ab6a"
      },
      "execution_count": 2,
      "outputs": [
        {
          "output_type": "stream",
          "name": "stdout",
          "text": [
            "\"saya\" ada 1 buah  , pada kalimat \"saya makan ayam makan\" \n"
          ]
        }
      ]
    },
    {
      "cell_type": "markdown",
      "source": [
        "SOAL 3"
      ],
      "metadata": {
        "id": "GU9ZV-I8nLgI"
      }
    },
    {
      "cell_type": "code",
      "source": [
        "def menghapus_spasi(kalimat):\n",
        "    kalimat = kalimat.strip('\"')\n",
        "    kalimat = kalimat.split()\n",
        "    kalimat_baru = ' '.join(kalimat)\n",
        "    print(f'\"{kalimat_baru}\"')\n",
        "menghapus_spasi('\"          saya                  makan                 sate                               \"')"
      ],
      "metadata": {
        "colab": {
          "base_uri": "https://localhost:8080/"
        },
        "id": "6T2R9rAWnMjw",
        "outputId": "0525edc9-1510-4c1a-e8db-6a06535c4672"
      },
      "execution_count": 3,
      "outputs": [
        {
          "output_type": "stream",
          "name": "stdout",
          "text": [
            "\"saya makan sate\"\n"
          ]
        }
      ]
    },
    {
      "cell_type": "markdown",
      "source": [
        "SOAL 4"
      ],
      "metadata": {
        "id": "AW2h2UuVnS7p"
      }
    },
    {
      "cell_type": "code",
      "source": [
        "def perbandingan(kalimat):\n",
        "    terpanjang = 0\n",
        "    terpendek = 0\n",
        "    cari =  kalimat.split()\n",
        "    terpanjang = terpendek = cari[0]\n",
        "    for banding in cari:\n",
        "        if len(banding) > len(terpanjang) :\n",
        "            terpanjang = banding\n",
        "        if len(banding) < len(terpendek) :\n",
        "            terpendek = banding\n",
        "\n",
        "    print (f'terpanjang : {terpanjang}')\n",
        "    print (f'Terpendek : {terpendek}')\n",
        "\n",
        "perbandingan(\"red snakes and a black frog in the pool\")"
      ],
      "metadata": {
        "colab": {
          "base_uri": "https://localhost:8080/"
        },
        "id": "CVCuht4VnUnR",
        "outputId": "da3f650c-19dd-4d9b-dcc9-bb9d17c36605"
      },
      "execution_count": 4,
      "outputs": [
        {
          "output_type": "stream",
          "name": "stdout",
          "text": [
            "terpanjang : snakes\n",
            "Terpendek : a\n"
          ]
        }
      ]
    }
  ]
}